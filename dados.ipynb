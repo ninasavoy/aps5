{
 "cells": [
  {
   "cell_type": "code",
   "execution_count": null,
   "metadata": {},
   "outputs": [],
   "source": [
    "# quantos sets em media a seleção brasileira de vôlei feminina perdeu em um ano que ela foi campeã\n",
    "# em comparação à um ano que ela foi perdedora \n",
    "\n",
    "# ano campeã: https://www.flashscore.com.br/volei/mundo/campeonato-mundial-feminino-2014/classificacao/#/4EvDVolf/table\n",
    "\n",
    "# https://meninajoga.com.br/volei/tabela-campeonato-mundial-de-volei-feminino-2018/"
   ]
  },
  {
   "cell_type": "code",
   "execution_count": null,
   "metadata": {},
   "outputs": [],
   "source": [
    "# lidando com media de sets perdidos por jogo \n",
    "# poisson "
   ]
  },
  {
   "cell_type": "code",
   "execution_count": null,
   "metadata": {},
   "outputs": [],
   "source": [
    "# campeâ\n",
    "jogos_c = 12 \n",
    "sets_perdidos_c = 6\n",
    "\n"
   ]
  }
 ],
 "metadata": {
  "language_info": {
   "name": "python"
  }
 },
 "nbformat": 4,
 "nbformat_minor": 2
}
