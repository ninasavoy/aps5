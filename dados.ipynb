{
 "cells": [
  {
   "cell_type": "code",
   "execution_count": null,
   "metadata": {},
   "outputs": [],
   "source": [
    "# quantos sets em media a seleção brasileira de vôlei feminina perdeu em um ano que ela foi campeã\n",
    "# em comparação à um ano que ela foi perdedora \n",
    "\n",
    "# lidando com media de sets perdidos por jogo \n",
    "# poisson \n",
    "\n",
    "# ano campeã: https://www.flashscore.com.br/volei/mundo/campeonato-mundial-feminino-2014/classificacao/#/4EvDVolf/table\n",
    "# ano perdedoras : https://meninajoga.com.br/volei/tabela-campeonato-mundial-de-volei-feminino-2018/"
   ]
  },
  {
   "cell_type": "code",
   "execution_count": 2,
   "metadata": {},
   "outputs": [
    {
     "ename": "ModuleNotFoundError",
     "evalue": "No module named 'scipy'",
     "output_type": "error",
     "traceback": [
      "\u001b[0;31m---------------------------------------------------------------------------\u001b[0m",
      "\u001b[0;31mModuleNotFoundError\u001b[0m                       Traceback (most recent call last)",
      "\u001b[1;32m/Users/nina.sa/Desktop/cdados/aps5/dados.ipynb Cell 2\u001b[0m line \u001b[0;36m8\n\u001b[1;32m      <a href='vscode-notebook-cell:/Users/nina.sa/Desktop/cdados/aps5/dados.ipynb#W6sZmlsZQ%3D%3D?line=5'>6</a>\u001b[0m jogos_p \u001b[39m=\u001b[39m \u001b[39m9\u001b[39m \n\u001b[1;32m      <a href='vscode-notebook-cell:/Users/nina.sa/Desktop/cdados/aps5/dados.ipynb#W6sZmlsZQ%3D%3D?line=6'>7</a>\u001b[0m sets_perdidos_p \u001b[39m=\u001b[39m \u001b[39m11\u001b[39m\n\u001b[0;32m----> <a href='vscode-notebook-cell:/Users/nina.sa/Desktop/cdados/aps5/dados.ipynb#W6sZmlsZQ%3D%3D?line=7'>8</a>\u001b[0m \u001b[39mimport\u001b[39;00m \u001b[39mscipy\u001b[39;00m\u001b[39m.\u001b[39;00m\u001b[39mstats\u001b[39;00m \u001b[39mas\u001b[39;00m \u001b[39mst\u001b[39;00m\n",
      "\u001b[0;31mModuleNotFoundError\u001b[0m: No module named 'scipy'"
     ]
    }
   ],
   "source": [
    "# campeâ\n",
    "jogos_c = 12 \n",
    "sets_perdidos_c = 6\n",
    "\n",
    "#perdedora\n",
    "jogos_p = 9 \n",
    "sets_perdidos_p = 11\n",
    "import scipy.stats as st"
   ]
  },
  {
   "cell_type": "code",
   "execution_count": null,
   "metadata": {},
   "outputs": [],
   "source": [
    "\n",
    "media_c = jogos_c / sets_perdidos_c\n",
    "media_p = jogos_p / sets_perdidos_p\n",
    "\n",
    "lambda_real_c = sets_perdidos_c\n",
    "contagens = st.poisson.rvs(lambda_real_c, size=jogos_c) # Observei varios trechos da estrada\n",
    "estimativa_media = contagens.mean() # Esse é o X-barra!\n",
    "print(estimativa_media)"
   ]
  }
 ],
 "metadata": {
  "kernelspec": {
   "display_name": "venv",
   "language": "python",
   "name": "python3"
  },
  "language_info": {
   "codemirror_mode": {
    "name": "ipython",
    "version": 3
   },
   "file_extension": ".py",
   "mimetype": "text/x-python",
   "name": "python",
   "nbconvert_exporter": "python",
   "pygments_lexer": "ipython3",
   "version": "3.9.10"
  }
 },
 "nbformat": 4,
 "nbformat_minor": 2
}
