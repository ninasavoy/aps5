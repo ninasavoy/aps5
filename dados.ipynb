{
 "cells": [
  {
   "cell_type": "code",
   "execution_count": null,
   "metadata": {},
   "outputs": [],
   "source": [
    "# quantos sets em media a seleção brasileira de vôlei feminina perdeu em um ano que ela foi campeã\n",
    "# em comparação à um ano que ela foi perdedora \n",
    "\n",
    "# lidando com media de sets perdidos por jogo \n",
    "# poisson \n",
    "\n",
    "# ano campeã: https://www.flashscore.com.br/volei/mundo/campeonato-mundial-feminino-2014/classificacao/#/4EvDVolf/table\n",
    "# ano perdedoras : https://meninajoga.com.br/volei/tabela-campeonato-mundial-de-volei-feminino-2018/"
   ]
  },
  {
   "cell_type": "code",
   "execution_count": 1,
   "metadata": {},
   "outputs": [],
   "source": [
    "import scipy.stats as st\n",
    "import numpy as np"
   ]
  },
  {
   "cell_type": "code",
   "execution_count": 2,
   "metadata": {},
   "outputs": [],
   "source": [
    "# campeã\n",
    "sets_perdidos_c = [1, 2, 0, 0, 0, 0, 1, 1, 0, 1, 0, 0]\n",
    "\n",
    "#perdedora\n",
    "sets_perdidos_p = [0, 0, 3, 0, 0, 3, 1, 2, 2]"
   ]
  },
  {
   "cell_type": "code",
   "execution_count": null,
   "metadata": {},
   "outputs": [],
   "source": [
    "\n",
    "media_c = np.mean(sets_perdidos_c)\n",
    "media_p = np.mean(sets_perdidos_p)\n",
    "\n",
    "sigma_c = st.poisson.std(media_c)\n",
    "sigma_p = st.poisson.std(media_p)\n",
    "\n",
    "sigma_normal_c = sigma_c / len(sets_perdidos_c) ** 0.5\n",
    "sigma_normal_p = sigma_p / len(sets_perdidos_p) ** 0.5\n"
   ]
  },
  {
   "cell_type": "code",
   "execution_count": null,
   "metadata": {},
   "outputs": [],
   "source": [
    "minima_c = st.norm.ppf(0.025, loc=media_c, scale=sigma_normal_c)\n",
    "maxima_c = st.norm.ppf(1-0.025, loc=media_c, scale=sigma_normal_c)\n",
    "print(minima_c, maxima_c)\n",
    "\n",
    "minima_p = st.norm.ppf(0.025, loc=media_p, scale=sigma_normal_p)\n",
    "maxima_p = st.norm.ppf(1-0.025, loc=media_p, scale=sigma_normal_p)\n",
    "print(minima_p, maxima_p)"
   ]
  }
 ],
 "metadata": {
  "kernelspec": {
   "display_name": "venv",
   "language": "python",
   "name": "python3"
  },
  "language_info": {
   "codemirror_mode": {
    "name": "ipython",
    "version": 3
   },
   "file_extension": ".py",
   "mimetype": "text/x-python",
   "name": "python",
   "nbconvert_exporter": "python",
   "pygments_lexer": "ipython3",
   "version": "3.9.10"
  }
 },
 "nbformat": 4,
 "nbformat_minor": 2
}
